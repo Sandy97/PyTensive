{
 "cells": [
  {
   "cell_type": "markdown",
   "id": "137606fe",
   "metadata": {},
   "source": [
    "### Задание: выделение данных\n",
    "Получите данные по безработице в Москве: \\\n",
    "https://video.ittensive.com/python-advanced/data-9753-2019-07-25.utf.csv\n",
    "\n",
    "Найдите, с какого года процент людей с ограниченными возможностями (UnemployedDisabled) среди всех безработных (UnemployedTotal) стал меньше 2%."
   ]
  },
  {
   "cell_type": "code",
   "execution_count": 2,
   "id": "f94baccf",
   "metadata": {},
   "outputs": [],
   "source": [
    "import numpy as np\n",
    "import pandas as pd"
   ]
  },
  {
   "cell_type": "code",
   "execution_count": null,
   "id": "1204a7fd",
   "metadata": {},
   "outputs": [],
   "source": [
    "# data = pd.read_csv(\"https://video.ittensive.com/python-advanced/data-9753-2019-07-25.utf.csv\", delimiter=\";\")\n",
    "# data[\"Sum\"] = data.apply(lambda x: 100*x[6]/x[7], axis=1)\n",
    "# data = data[data[\"Sum\"] < 2]\n",
    "# data = data.set_index(\"Year\")\n",
    "# data = data.sort_index()\n",
    "# print (data.index[0:1])"
   ]
  },
  {
   "cell_type": "code",
   "execution_count": 4,
   "id": "06178cab",
   "metadata": {},
   "outputs": [
    {
     "name": "stdout",
     "output_type": "stream",
     "text": [
      "93    2018\n",
      "Name: Year, dtype: int64\n"
     ]
    }
   ],
   "source": [
    "# Мое решение\n",
    "unemp = pd.read_csv(\"https://video.ittensive.com/python-advanced/data-9753-2019-07-25.utf.csv\", delimiter=\";\")\n",
    "\n",
    "# Вычисляем процент людей с ограниченными возможностями среди всех безработных в отдельную колонку\n",
    "unemp['prc'] = unemp.apply(lambda row: row.UnemployedDisabled/row.UnemployedTotal*100, axis=1)\n",
    "\n",
    "# Искомый результат\n",
    "print(unemp[unemp['prc'] < 2].sort_values('prc').iloc[0:1].Year)\n"
   ]
  }
 ],
 "metadata": {
  "kernelspec": {
   "display_name": "Python 3 (ipykernel)",
   "language": "python",
   "name": "python3"
  },
  "language_info": {
   "codemirror_mode": {
    "name": "ipython",
    "version": 3
   },
   "file_extension": ".py",
   "mimetype": "text/x-python",
   "name": "python",
   "nbconvert_exporter": "python",
   "pygments_lexer": "ipython3",
   "version": "3.9.10"
  }
 },
 "nbformat": 4,
 "nbformat_minor": 5
}
