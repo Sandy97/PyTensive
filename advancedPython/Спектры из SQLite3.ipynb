{
 "cells": [
  {
   "cell_type": "markdown",
   "id": "f1052a7d",
   "metadata": {},
   "source": [
    "# Спектры из SQLite3"
   ]
  },
  {
   "cell_type": "code",
   "execution_count": 1,
   "id": "d0a7b89b",
   "metadata": {},
   "outputs": [],
   "source": [
    "import sqlite3 \n",
    "\n",
    "con = sqlite3.connect(\"C:\\\\Data\\\\ARTA\\\\ARTM.s3db\")\n",
    "cur = con.cursor()"
   ]
  },
  {
   "cell_type": "code",
   "execution_count": 2,
   "id": "6bbdb86f",
   "metadata": {},
   "outputs": [],
   "source": [
    "import pandas as pd\n",
    "import matplotlib.pyplot as plt\n",
    "\n",
    "pd.set_option('display.max_columns', 50)\n",
    "pd.options.display.float_format = '{:,.1f}'.format"
   ]
  },
  {
   "cell_type": "code",
   "execution_count": 3,
   "id": "863919f7",
   "metadata": {},
   "outputs": [
    {
     "data": {
      "text/html": [
       "<div>\n",
       "<style scoped>\n",
       "    .dataframe tbody tr th:only-of-type {\n",
       "        vertical-align: middle;\n",
       "    }\n",
       "\n",
       "    .dataframe tbody tr th {\n",
       "        vertical-align: top;\n",
       "    }\n",
       "\n",
       "    .dataframe thead th {\n",
       "        text-align: right;\n",
       "    }\n",
       "</style>\n",
       "<table border=\"1\" class=\"dataframe\">\n",
       "  <thead>\n",
       "    <tr style=\"text-align: right;\">\n",
       "      <th></th>\n",
       "      <th>id_number</th>\n",
       "      <th>valid</th>\n",
       "      <th>mol_wt</th>\n",
       "      <th>bp</th>\n",
       "      <th>mp</th>\n",
       "      <th>xright</th>\n",
       "      <th>xleft</th>\n",
       "      <th>yorg</th>\n",
       "      <th>ymax</th>\n",
       "      <th>resolution</th>\n",
       "      <th>max_yval</th>\n",
       "      <th>min_yval</th>\n",
       "      <th>total_size</th>\n",
       "      <th>scans_sig</th>\n",
       "      <th>scans_bkg</th>\n",
       "      <th>ndata</th>\n",
       "      <th>lgain_sig</th>\n",
       "      <th>lgain_bkg</th>\n",
       "      <th>ap_type</th>\n",
       "      <th>casname</th>\n",
       "      <th>casnumber</th>\n",
       "      <th>desc1</th>\n",
       "      <th>mol_form</th>\n",
       "      <th>detector</th>\n",
       "      <th>sdata</th>\n",
       "      <th>nfactor</th>\n",
       "    </tr>\n",
       "  </thead>\n",
       "  <tbody>\n",
       "    <tr>\n",
       "      <th>0</th>\n",
       "      <td>1</td>\n",
       "      <td>0</td>\n",
       "      <td>0.0</td>\n",
       "      <td>0.0</td>\n",
       "      <td>0.0</td>\n",
       "      <td>455.2</td>\n",
       "      <td>4,400.0</td>\n",
       "      <td>0.0</td>\n",
       "      <td>1.0</td>\n",
       "      <td>4.0</td>\n",
       "      <td>0.9</td>\n",
       "      <td>-0.0</td>\n",
       "      <td>0</td>\n",
       "      <td>128</td>\n",
       "      <td>128</td>\n",
       "      <td>2046</td>\n",
       "      <td>1</td>\n",
       "      <td>1</td>\n",
       "      <td>0</td>\n",
       "      <td>ACRYLOID B-67 (FROM ALFA)</td>\n",
       "      <td></td>\n",
       "      <td>artm0001</td>\n",
       "      <td></td>\n",
       "      <td>mct</td>\n",
       "      <td>[\"s\",\"W\",\"K\",\"E\",\"B\",\"B\",\"E\",\"H\",\"H\",\"J\",\"J\",\"...</td>\n",
       "      <td>2,017.5</td>\n",
       "    </tr>\n",
       "    <tr>\n",
       "      <th>1</th>\n",
       "      <td>2</td>\n",
       "      <td>0</td>\n",
       "      <td>0.0</td>\n",
       "      <td>0.0</td>\n",
       "      <td>0.0</td>\n",
       "      <td>455.2</td>\n",
       "      <td>4,400.0</td>\n",
       "      <td>0.0</td>\n",
       "      <td>1.0</td>\n",
       "      <td>4.0</td>\n",
       "      <td>0.9</td>\n",
       "      <td>-0.0</td>\n",
       "      <td>0</td>\n",
       "      <td>128</td>\n",
       "      <td>128</td>\n",
       "      <td>2046</td>\n",
       "      <td>1</td>\n",
       "      <td>1</td>\n",
       "      <td>0</td>\n",
       "      <td>ACRYLOID B-72</td>\n",
       "      <td></td>\n",
       "      <td>artm0002</td>\n",
       "      <td></td>\n",
       "      <td>mct</td>\n",
       "      <td>[\"J\",\"F\",\"D\",\"B\",\"@\",\"\\u003e\",\"=\",\"\\u003c\",\"\\u...</td>\n",
       "      <td>1,446.2</td>\n",
       "    </tr>\n",
       "    <tr>\n",
       "      <th>2</th>\n",
       "      <td>3</td>\n",
       "      <td>0</td>\n",
       "      <td>0.0</td>\n",
       "      <td>0.0</td>\n",
       "      <td>0.0</td>\n",
       "      <td>455.2</td>\n",
       "      <td>4,400.0</td>\n",
       "      <td>0.0</td>\n",
       "      <td>1.0</td>\n",
       "      <td>4.0</td>\n",
       "      <td>0.9</td>\n",
       "      <td>-0.0</td>\n",
       "      <td>0</td>\n",
       "      <td>128</td>\n",
       "      <td>128</td>\n",
       "      <td>2046</td>\n",
       "      <td>2</td>\n",
       "      <td>2</td>\n",
       "      <td>0</td>\n",
       "      <td>ALFA-BOND; CASEIN #02298032276</td>\n",
       "      <td></td>\n",
       "      <td>artm0003</td>\n",
       "      <td></td>\n",
       "      <td>mct</td>\n",
       "      <td>[\"X\",\"U\",\"T\",\"T\",\"S\",\"S\",\"R\",\"R\",\"R\",\"S\",\"R\",\"...</td>\n",
       "      <td>1,894.8</td>\n",
       "    </tr>\n",
       "    <tr>\n",
       "      <th>3</th>\n",
       "      <td>4</td>\n",
       "      <td>0</td>\n",
       "      <td>0.0</td>\n",
       "      <td>0.0</td>\n",
       "      <td>0.0</td>\n",
       "      <td>455.2</td>\n",
       "      <td>4,400.0</td>\n",
       "      <td>0.0</td>\n",
       "      <td>1.0</td>\n",
       "      <td>4.0</td>\n",
       "      <td>0.9</td>\n",
       "      <td>-0.0</td>\n",
       "      <td>0</td>\n",
       "      <td>128</td>\n",
       "      <td>128</td>\n",
       "      <td>2046</td>\n",
       "      <td>1</td>\n",
       "      <td>1</td>\n",
       "      <td>0</td>\n",
       "      <td>BATU EAST INDIA BOLD</td>\n",
       "      <td></td>\n",
       "      <td>artm0004</td>\n",
       "      <td></td>\n",
       "      <td>mct</td>\n",
       "      <td>[\"I\",\"I\",\"I\",\"I\",\"I\",\"I\",\"I\",\"J\",\"K\",\"L\",\"L\",\"...</td>\n",
       "      <td>1,622.4</td>\n",
       "    </tr>\n",
       "    <tr>\n",
       "      <th>4</th>\n",
       "      <td>5</td>\n",
       "      <td>0</td>\n",
       "      <td>0.0</td>\n",
       "      <td>0.0</td>\n",
       "      <td>0.0</td>\n",
       "      <td>455.2</td>\n",
       "      <td>4,400.0</td>\n",
       "      <td>0.0</td>\n",
       "      <td>1.0</td>\n",
       "      <td>4.0</td>\n",
       "      <td>0.9</td>\n",
       "      <td>-0.0</td>\n",
       "      <td>0</td>\n",
       "      <td>128</td>\n",
       "      <td>128</td>\n",
       "      <td>2046</td>\n",
       "      <td>1</td>\n",
       "      <td>1</td>\n",
       "      <td>0</td>\n",
       "      <td>BLACK EAST INDIA UNSCRAPED</td>\n",
       "      <td></td>\n",
       "      <td>artm0005</td>\n",
       "      <td></td>\n",
       "      <td>mct</td>\n",
       "      <td>[\"@\",\"?\",\"@\",\"@\",\"?\",\"?\",\"?\",\"@\",\"A\",\"B\",\"B\",\"...</td>\n",
       "      <td>1,535.0</td>\n",
       "    </tr>\n",
       "  </tbody>\n",
       "</table>\n",
       "</div>"
      ],
      "text/plain": [
       "  id_number  valid  mol_wt  bp  mp  xright   xleft  yorg  ymax  resolution  \\\n",
       "0         1      0     0.0 0.0 0.0   455.2 4,400.0   0.0   1.0         4.0   \n",
       "1         2      0     0.0 0.0 0.0   455.2 4,400.0   0.0   1.0         4.0   \n",
       "2         3      0     0.0 0.0 0.0   455.2 4,400.0   0.0   1.0         4.0   \n",
       "3         4      0     0.0 0.0 0.0   455.2 4,400.0   0.0   1.0         4.0   \n",
       "4         5      0     0.0 0.0 0.0   455.2 4,400.0   0.0   1.0         4.0   \n",
       "\n",
       "   max_yval  min_yval  total_size  scans_sig  scans_bkg  ndata  lgain_sig  \\\n",
       "0       0.9      -0.0           0        128        128   2046          1   \n",
       "1       0.9      -0.0           0        128        128   2046          1   \n",
       "2       0.9      -0.0           0        128        128   2046          2   \n",
       "3       0.9      -0.0           0        128        128   2046          1   \n",
       "4       0.9      -0.0           0        128        128   2046          1   \n",
       "\n",
       "   lgain_bkg  ap_type                         casname casnumber     desc1  \\\n",
       "0          1        0       ACRYLOID B-67 (FROM ALFA)            artm0001   \n",
       "1          1        0                   ACRYLOID B-72            artm0002   \n",
       "2          2        0  ALFA-BOND; CASEIN #02298032276            artm0003   \n",
       "3          1        0            BATU EAST INDIA BOLD            artm0004   \n",
       "4          1        0      BLACK EAST INDIA UNSCRAPED            artm0005   \n",
       "\n",
       "  mol_form detector                                              sdata  \\\n",
       "0               mct  [\"s\",\"W\",\"K\",\"E\",\"B\",\"B\",\"E\",\"H\",\"H\",\"J\",\"J\",\"...   \n",
       "1               mct  [\"J\",\"F\",\"D\",\"B\",\"@\",\"\\u003e\",\"=\",\"\\u003c\",\"\\u...   \n",
       "2               mct  [\"X\",\"U\",\"T\",\"T\",\"S\",\"S\",\"R\",\"R\",\"R\",\"S\",\"R\",\"...   \n",
       "3               mct  [\"I\",\"I\",\"I\",\"I\",\"I\",\"I\",\"I\",\"J\",\"K\",\"L\",\"L\",\"...   \n",
       "4               mct  [\"@\",\"?\",\"@\",\"@\",\"?\",\"?\",\"?\",\"@\",\"A\",\"B\",\"B\",\"...   \n",
       "\n",
       "   nfactor  \n",
       "0  2,017.5  \n",
       "1  1,446.2  \n",
       "2  1,894.8  \n",
       "3  1,622.4  \n",
       "4  1,535.0  "
      ]
     },
     "execution_count": 3,
     "metadata": {},
     "output_type": "execute_result"
    }
   ],
   "source": [
    "sp_data = pd.read_sql(\"SELECT * FROM SP_DATA\", con)\n",
    "#sp_data.info()\n",
    "\n",
    "hdr = pd.read_sql(\"SELECT * FROM HR_LIB_HDR\", con)\n",
    "hdr.head()\n",
    "\n",
    "dhdr = pd.read_sql(\"SELECT * FROM HR_LIB_DHDR\", con)\n",
    "#dhdr.info()\n",
    "dhdr.head()"
   ]
  },
  {
   "cell_type": "code",
   "execution_count": 4,
   "id": "9268c181",
   "metadata": {},
   "outputs": [
    {
     "data": {
      "text/plain": [
       "1000"
      ]
     },
     "execution_count": 4,
     "metadata": {},
     "output_type": "execute_result"
    }
   ],
   "source": [
    "sd = dhdr.loc[1:1,'sdata'].str[1:-1].tolist()\n",
    "len(sd[0].split(','))*4"
   ]
  },
  {
   "cell_type": "markdown",
   "id": "02eb5c53",
   "metadata": {},
   "source": [
    "    sp_data['tags']= sp_data.data.apply(lambda x: x[1:-1].split(','))\n",
    "    sp_data.info()\n",
    "    sp_data.head()\n"
   ]
  },
  {
   "cell_type": "code",
   "execution_count": 5,
   "id": "bd32954e",
   "metadata": {},
   "outputs": [
    {
     "data": {
      "text/plain": [
       "2046"
      ]
     },
     "execution_count": 5,
     "metadata": {},
     "output_type": "execute_result"
    }
   ],
   "source": [
    "d = sp_data.loc[19:20,'data'].str[1:-1].tolist()\n",
    "#d[0].split(',')\n",
    "\n",
    "\n",
    "sp = [pd.to_numeric(n) for n in d[0].split(',')]\n",
    "\n",
    "len(sp)"
   ]
  },
  {
   "cell_type": "code",
   "execution_count": 8,
   "id": "a9cde5b0",
   "metadata": {},
   "outputs": [
    {
     "name": "stdout",
     "output_type": "stream",
     "text": [
      "986.1967397500001\n",
      "-0.00054933317\n"
     ]
    }
   ],
   "source": [
    "print((4400.028809-455.24185)/4.0)\n",
    "print(min(sp))\n",
    "\n",
    "ix = range(1,len(sp)+1)\n",
    "xlbv = [455.24 + r * ((4400.02-455.24)/len(sp)) for r in ix] \n",
    "#print(xlbv) "
   ]
  },
  {
   "cell_type": "code",
   "execution_count": 9,
   "id": "593c8c93",
   "metadata": {},
   "outputs": [
    {
     "data": {
      "text/plain": [
       "<AxesSubplot:>"
      ]
     },
     "execution_count": 9,
     "metadata": {},
     "output_type": "execute_result"
    },
    {
     "data": {
      "image/png": "[encoded data removed]",
      "text/plain": [
       "<Figure size 800x900 with 1 Axes>"
      ]
     },
     "metadata": {},
     "output_type": "display_data"
    }
   ],
   "source": [
    "spectr = pd.Series(sp, index=xlbv) #\n",
    "spectr.plot(figsize=(8,9), grid=True)"
   ]
  },
  {
   "cell_type": "code",
   "execution_count": null,
   "id": "2ca2eb96",
   "metadata": {},
   "outputs": [],
   "source": []
  }
 ],
 "metadata": {
  "kernelspec": {
   "display_name": "Python 3 (ipykernel)",
   "language": "python",
   "name": "python3"
  },
  "language_info": {
   "codemirror_mode": {
    "name": "ipython",
    "version": 3
   },
   "file_extension": ".py",
   "mimetype": "text/x-python",
   "name": "python",
   "nbconvert_exporter": "python",
   "pygments_lexer": "ipython3",
   "version": "3.9.10"
  }
 },
 "nbformat": 4,
 "nbformat_minor": 5
}
