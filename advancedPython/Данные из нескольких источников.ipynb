{
 "cells": [
  {
   "cell_type": "markdown",
   "id": "4b19e1d5",
   "metadata": {},
   "source": [
    "### Задание: данные из нескольких источников\n",
    "##### Объединение данных и сортировка по индексам\n",
    "Получите данные по безработице в Москве:\\\n",
    "https://video.ittensive.com/python-advanced/data-9753-2019-07-25.utf.csv \\\n",
    "Объедините эти данные индексами (Месяц/Год) с данными из предыдущего задания (вызовы пожарных) для Центральный административный округ: \\\n",
    "https://video.ittensive.com/python-advanced/data-5283-2019-10-04.utf.csv \\\n",
    "Найдите значение поля UnemployedMen в том месяце, когда было меньше всего вызовов в Центральном административном округе."
   ]
  },
  {
   "cell_type": "markdown",
   "id": "3b7fccf7",
   "metadata": {},
   "source": [
    "#### Решение\n",
    "1. Загрузить оба набора данных\n",
    "2. Привести имена и значения полей Period и Month к одинаковому виду \n",
    "3. Установить индексацию по ```['Year','Month']``` для обоих наборов данных\n",
    "4. Отобрать данные только по Центральный административный округ\n",
    "5. Объединить наьоры данных по индексам\n",
    "6. Отсортировать получившийся набор по возрастанию поля Calls\n",
    "7. Ответ будет в первой записи  "
   ]
  },
  {
   "cell_type": "code",
   "execution_count": 21,
   "id": "b8a49aef",
   "metadata": {},
   "outputs": [
    {
     "data": {
      "text/html": [
       "<div>\n",
       "<style scoped>\n",
       "    .dataframe tbody tr th:only-of-type {\n",
       "        vertical-align: middle;\n",
       "    }\n",
       "\n",
       "    .dataframe tbody tr th {\n",
       "        vertical-align: top;\n",
       "    }\n",
       "\n",
       "    .dataframe thead th {\n",
       "        text-align: right;\n",
       "    }\n",
       "</style>\n",
       "<table border=\"1\" class=\"dataframe\">\n",
       "  <thead>\n",
       "    <tr style=\"text-align: right;\">\n",
       "      <th></th>\n",
       "      <th>global_id</th>\n",
       "      <th>ID</th>\n",
       "      <th>Year</th>\n",
       "      <th>UnemployedMen</th>\n",
       "      <th>UnemployedWomen</th>\n",
       "      <th>UnemployedYoung</th>\n",
       "      <th>UnemployedDisabled</th>\n",
       "      <th>UnemployedTotal</th>\n",
       "      <th>Month</th>\n",
       "    </tr>\n",
       "  </thead>\n",
       "  <tbody>\n",
       "    <tr>\n",
       "      <th>0</th>\n",
       "      <td>39809862</td>\n",
       "      <td>1</td>\n",
       "      <td>2001</td>\n",
       "      <td>8896</td>\n",
       "      <td>25762</td>\n",
       "      <td>6696</td>\n",
       "      <td>824</td>\n",
       "      <td>34658</td>\n",
       "      <td>декабрь</td>\n",
       "    </tr>\n",
       "    <tr>\n",
       "      <th>1</th>\n",
       "      <td>64592413</td>\n",
       "      <td>3</td>\n",
       "      <td>2003</td>\n",
       "      <td>8679</td>\n",
       "      <td>24967</td>\n",
       "      <td>6226</td>\n",
       "      <td>1155</td>\n",
       "      <td>33646</td>\n",
       "      <td>декабрь</td>\n",
       "    </tr>\n",
       "    <tr>\n",
       "      <th>2</th>\n",
       "      <td>64592414</td>\n",
       "      <td>4</td>\n",
       "      <td>2004</td>\n",
       "      <td>9822</td>\n",
       "      <td>25239</td>\n",
       "      <td>7318</td>\n",
       "      <td>1411</td>\n",
       "      <td>35061</td>\n",
       "      <td>декабрь</td>\n",
       "    </tr>\n",
       "    <tr>\n",
       "      <th>3</th>\n",
       "      <td>64592415</td>\n",
       "      <td>5</td>\n",
       "      <td>2005</td>\n",
       "      <td>10844</td>\n",
       "      <td>23597</td>\n",
       "      <td>6890</td>\n",
       "      <td>1531</td>\n",
       "      <td>34441</td>\n",
       "      <td>декабрь</td>\n",
       "    </tr>\n",
       "    <tr>\n",
       "      <th>4</th>\n",
       "      <td>64592416</td>\n",
       "      <td>6</td>\n",
       "      <td>2006</td>\n",
       "      <td>11041</td>\n",
       "      <td>22928</td>\n",
       "      <td>6604</td>\n",
       "      <td>1671</td>\n",
       "      <td>33969</td>\n",
       "      <td>декабрь</td>\n",
       "    </tr>\n",
       "  </tbody>\n",
       "</table>\n",
       "</div>"
      ],
      "text/plain": [
       "   global_id  ID  Year  UnemployedMen  UnemployedWomen  UnemployedYoung  \\\n",
       "0   39809862   1  2001           8896            25762             6696   \n",
       "1   64592413   3  2003           8679            24967             6226   \n",
       "2   64592414   4  2004           9822            25239             7318   \n",
       "3   64592415   5  2005          10844            23597             6890   \n",
       "4   64592416   6  2006          11041            22928             6604   \n",
       "\n",
       "   UnemployedDisabled  UnemployedTotal    Month  \n",
       "0                 824            34658  декабрь  \n",
       "1                1155            33646  декабрь  \n",
       "2                1411            35061  декабрь  \n",
       "3                1531            34441  декабрь  \n",
       "4                1671            33969  декабрь  "
      ]
     },
     "execution_count": 21,
     "metadata": {},
     "output_type": "execute_result"
    }
   ],
   "source": [
    "import numpy as np\n",
    "import pandas as pd\n",
    "df= pd.read_csv('https://video.ittensive.com/python-advanced/data-5283-2019-10-04.utf.csv', sep=';')\n",
    "df['Month'] = df['Month'].str.lower()\n",
    "# df.head()\n",
    "unemp = pd.read_csv('https://video.ittensive.com/python-advanced/data-9753-2019-07-25.utf.csv', sep=';')\n",
    "unemp = unemp.iloc[:,:-1]\n",
    "unemp.rename({'Period':'Month'},axis=1,inplace=True)\n",
    "unemp['Month'] = unemp['Month'].str.lower()\n",
    "unemp.head()\n"
   ]
  },
  {
   "cell_type": "code",
   "execution_count": 22,
   "id": "a238f447",
   "metadata": {},
   "outputs": [
    {
     "name": "stdout",
     "output_type": "stream",
     "text": [
      "Искомое значение поля UnemployedMen = 13465\n"
     ]
    }
   ],
   "source": [
    "df.set_index(['Year','Month'], inplace=True)\n",
    "# df.info()\n",
    "\n",
    "unemp.set_index(['Year','Month'], inplace=True)\n",
    "# unemp.head()\n",
    "\n",
    "df = df.query(\"AdmArea == 'Центральный административный округ'\")\n",
    "\n",
    "data = pd.merge(unemp, df, left_index=True, right_index=True)\n",
    "\n",
    "print(f\"Искомое значение поля UnemployedMen = {data.sort_values('Calls',ascending=True).iloc[0].UnemployedMen}\")\n"
   ]
  },
  {
   "cell_type": "code",
   "execution_count": null,
   "id": "6d89ab05",
   "metadata": {},
   "outputs": [],
   "source": []
  }
 ],
 "metadata": {
  "kernelspec": {
   "display_name": "Python 3 (ipykernel)",
   "language": "python",
   "name": "python3"
  },
  "language_info": {
   "codemirror_mode": {
    "name": "ipython",
    "version": 3
   },
   "file_extension": ".py",
   "mimetype": "text/x-python",
   "name": "python",
   "nbconvert_exporter": "python",
   "pygments_lexer": "ipython3",
   "version": "3.9.10"
  }
 },
 "nbformat": 4,
 "nbformat_minor": 5
}
