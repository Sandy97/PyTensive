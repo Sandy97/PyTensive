{
 "cells": [
  {
   "cell_type": "markdown",
   "id": "b02375e0",
   "metadata": {},
   "source": [
    "### Задание: геральдические символы Москвы\n",
    "\n",
    "Сгенерируйте PDF документ из списка флагов и гербов районов Москвы: \\\n",
    "https://video.ittensive.com/python-advanced/data-102743-2019-11-13.utf.csv \\\n",
    "На каждой странице документа выведите название геральдического символа (Name), его описание (Description) и его изображение (Picture).\n",
    "\n",
    "Для показа изображений используйте адрес\n",
    "https://op.mos.ru/MEDIA/showFile?id=XXX \\\n",
    "где XXX - это значение поля Picture в наборе данных. Например: \\\n",
    "https://op.mos.ru/MEDIA/showFile?id=8466da35-6801-41a9-a71e-04b60408accb\n",
    "\n",
    "В случае возникновения проблем с загрузкой изображений с op.mos.ru можно добавить в код настройку для форсирования использования дополнительных видов шифрования в протоколе SSL/TLS. \\\n",
    "requests.packages.urllib3.util.ssl_.DEFAULT_CIPHERS = 'ALL:@SECLEVEL=1'"
   ]
  },
  {
   "cell_type": "code",
   "execution_count": 1,
   "id": "4de9f612",
   "metadata": {},
   "outputs": [
    {
     "data": {
      "text/plain": [
       "42"
      ]
     },
     "execution_count": 1,
     "metadata": {},
     "output_type": "execute_result"
    }
   ],
   "source": [
    "import pandas as pd\n",
    "\n",
    "# Загрузка данных\n",
    "\n",
    "df = pd.read_csv('https://video.ittensive.com/python-advanced/data-102743-2019-11-13.utf.csv', sep=';')\n",
    "df = df.loc[:,['Name','Type','Picture','Description','Semantics']]#.sort_values('Name')\n",
    "# df\n",
    "# df.Type.unique()\n",
    "\n",
    "len(df.index)"
   ]
  },
  {
   "cell_type": "code",
   "execution_count": 2,
   "id": "3fa9531c",
   "metadata": {},
   "outputs": [
    {
     "data": {
      "text/plain": [
       "True"
      ]
     },
     "execution_count": 2,
     "metadata": {},
     "output_type": "execute_result"
    }
   ],
   "source": [
    "# Подготовка HTML текста для создания документа\n",
    "\n",
    "'''<html>\n",
    "<head><meta charset=\"utf-8\"/>\n",
    "    <title>Геральдические символы Москвы</title>\n",
    "    <style> h2 {page-break-before:always} </style>\n",
    "</head>\n",
    "<body>\n",
    "     <h1>{Name}</h1>\n",
    "\t <table>\n",
    "\t   <tr>\n",
    "\t   <td><img src=\"https://op.mos.ru/MEDIA/showFile?id={Picture}\" alt=\"{Name}\"/></td>\n",
    "\t   <td><p>{Description}</td>\n",
    "\t   </tr>\n",
    "\t </table>\n",
    "\t <br/>\n",
    "     <p>{Semantics}</a></p>\n",
    "    ...\n",
    "</body>\n",
    "</html>'''\n",
    "\n",
    "h_hdr = '<html><head><meta charset=\"utf-8\"/><title>Геральдические символы Москвы</title><style> h1 {page-break-before:always} </style></head><body>'\n",
    "h_ftr = '</body></html>'\n",
    "\n",
    "# Запись HTML-документа с данными в файл (чтобы избежать недостатка памяти)\n",
    "\n",
    "with open('msk-her.html', 'w', encoding='utf-8') as h:\n",
    "    h.write(h_hdr)\n",
    "    for index, row in df.iterrows():\n",
    "        Name = row[\"Name\"]\n",
    "        h.write(f'<h1>{Name}</h1><table><tr>')        \n",
    "        h.write(f'<td width=\"50%\"><img style=\"margin-left:10%\" src=\"https://op.mos.ru/MEDIA/showFile?id={row[\"Picture\"]}\" alt=\"{Name}\"/></td>')        \n",
    "        h.write(f'<td><p>{row[\"Description\"]}</td></tr></table>')\n",
    "        h.write(f'<br/><p style=\"font-size:150%\">{row[\"Semantics\"]}</a></p>')\n",
    "    h.write(h_ftr)\n",
    "\n",
    "# Создание PDF-отчета на базе созданного HTML-документа\n",
    "\n",
    "import pdfkit\n",
    "config = pdfkit.configuration(wkhtmltopdf=\"C:/Program Files/wkhtmltopdf/bin/wkhtmltopdf.exe\")\n",
    "options = {\n",
    "    'page-size': 'A4',\n",
    "    'margin-top': '0.5in',\n",
    "    'margin-right': '0.5in',\n",
    "    'margin-left': '0.5in',\n",
    "    'margin-bottom': '0.5in',\n",
    "    'encoding': 'utf-8',\n",
    "    'footer-html': 'footer.html',\n",
    "    'header-font-name': 'Trebuchet MS',\n",
    "    'footer-font-name': 'Trebuchet MS',\n",
    "    'header-right': '[page]',\n",
    "    'enable-local-file-access': '',\n",
    "    'page-offset': 1\n",
    "}\n",
    "\n",
    "pdfkit.from_file(\"msk-her.html\", 'msk-heraldics.pdf', # verbose=True,\n",
    "                 configuration=config, options=options)\n"
   ]
  },
  {
   "cell_type": "code",
   "execution_count": null,
   "id": "a72ba288",
   "metadata": {},
   "outputs": [],
   "source": []
  }
 ],
 "metadata": {
  "kernelspec": {
   "display_name": "Python 3 (ipykernel)",
   "language": "python",
   "name": "python3"
  },
  "language_info": {
   "codemirror_mode": {
    "name": "ipython",
    "version": 3
   },
   "file_extension": ".py",
   "mimetype": "text/x-python",
   "name": "python",
   "nbconvert_exporter": "python",
   "pygments_lexer": "ipython3",
   "version": "3.9.10"
  }
 },
 "nbformat": 4,
 "nbformat_minor": 5
}
