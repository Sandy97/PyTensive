{
 "cells": [
  {
   "cell_type": "markdown",
   "id": "7a4fefd5",
   "metadata": {},
   "source": [
    "### Задание: получение данных по API\n",
    "Изучите API Геокодера Яндекса \\\n",
    "http://tech.yandex.ru/maps/geocoder/doc/desc/concepts/input_params-docpage/ \\\n",
    "и получите ключ API для него в кабинете разработчика.\n",
    "\n",
    "Выполните запрос к API и узнайте долготу точки на карте (Point) для города Самара. \\\n",
    "Какая долгота у точки на карте для Самары?"
   ]
  },
  {
   "cell_type": "code",
   "execution_count": 13,
   "id": "d9d07148",
   "metadata": {},
   "outputs": [
    {
     "name": "stdout",
     "output_type": "stream",
     "text": [
      "Код ответа: 200\n",
      "долгота у точки на карте для Самары = 50.100202\n"
     ]
    }
   ],
   "source": [
    "import requests\n",
    "import json\n",
    "\n",
    "request_headers = {\n",
    "    \"Content-Type\": \"application/json\",        # что посылаем\n",
    "    \"Accept\": \"application/json;charset=UTF-8\" # что принимаем\n",
    "}\n",
    "\n",
    "## API key только для выполнения этого задания!\n",
    "url = \"https://geocode-maps.yandex.ru/1.x?apikey=3f355b88-81e9-4bbf-a0a4-eb687fdea256&geocode=Россия,Самара&format=json&lang=ru_RU\"\n",
    "response = requests.get(url, headers=request_headers)\n",
    "status_code = response.status_code\n",
    "print (\"Код ответа:\", status_code)\n",
    "\n",
    "\n",
    "response = json.loads(response.text)\n",
    "# print(response)\n",
    "if status_code == 200:\n",
    "    # Траверс JSON до нужного поля\n",
    "    response = response['response']\n",
    "    GeoObjectCollection = response['GeoObjectCollection']\n",
    "    geoobjects = GeoObjectCollection[\"featureMember\"]\n",
    "    GeoObject = geoobjects[0][\"GeoObject\"]\n",
    "    print(f\"долгота у точки на карте для Самары = {GeoObject['Point']['pos'].split(' ')[0]}\")\n",
    "else:\n",
    "    print(f\"Ошибка обращения к API: {status_code}\")"
   ]
  },
  {
   "cell_type": "code",
   "execution_count": null,
   "id": "802ca027",
   "metadata": {},
   "outputs": [],
   "source": []
  }
 ],
 "metadata": {
  "kernelspec": {
   "display_name": "Python 3 (ipykernel)",
   "language": "python",
   "name": "python3"
  },
  "language_info": {
   "codemirror_mode": {
    "name": "ipython",
    "version": 3
   },
   "file_extension": ".py",
   "mimetype": "text/x-python",
   "name": "python",
   "nbconvert_exporter": "python",
   "pygments_lexer": "ipython3",
   "version": "3.9.10"
  }
 },
 "nbformat": 4,
 "nbformat_minor": 5
}
